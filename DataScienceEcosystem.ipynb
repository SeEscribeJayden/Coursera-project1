{
  "cells": [
    {
      "cell_type": "markdown",
      "metadata": {
        "id": "GAuedM_1p81A"
      },
      "source": [
        "<center>\n",
        "    <img src=\"https://cf-courses-data.s3.us.cloud-object-storage.appdomain.cloud/IBMDeveloperSkillsNetwork-DS0105EN-SkillsNetwork/labs/Module2/images/SN_web_lightmode.png\" width=\"300\" alt=\"cognitiveclass.ai logo\">\n",
        "</center>\n"
      ]
    },
    {
      "cell_type": "markdown",
      "metadata": {
        "id": "_rbi5N1Qp81B"
      },
      "source": [
        "#### Add your code below following the instructions given in the course\n"
      ]
    },
    {
      "cell_type": "markdown",
      "source": [
        "#Data Science and Ecosystem\n"
      ],
      "metadata": {
        "id": "yySw2vuxq7N-"
      }
    },
    {
      "cell_type": "markdown",
      "source": [
        "In this notebook, Data science Tools and Ecosystem are summarised."
      ],
      "metadata": {
        "id": "peD-fGjlrqDd"
      }
    },
    {
      "cell_type": "markdown",
      "source": [
        "**Objectives:**\n",
        "- List popular languages for Data Science\n",
        "- List popuar tools for Data scientists\n",
        "- Learn how to use Markup language\n",
        "- Learn how to use Jupyter Notebooks\n"
      ],
      "metadata": {
        "id": "Pd9t01trxCe_"
      }
    },
    {
      "cell_type": "markdown",
      "source": [
        "Some of the popular languages that Data Scientists use are:  \n",
        "1.  Python  \n",
        "2.  R  \n",
        "3.  SQL  \n"
      ],
      "metadata": {
        "id": "h9mrF-Gwrz9d"
      }
    },
    {
      "cell_type": "markdown",
      "source": [
        "Some of the commonly used libraries used by data scientists:\n",
        "1. numpy\n",
        "2. Scikit\n",
        "3. Matplotlib\n"
      ],
      "metadata": {
        "id": "oSRBoF5RvX_n"
      }
    },
    {
      "cell_type": "markdown",
      "source": [
        "| Data Science Tools |\n",
        "|--------------------|\n",
        "|Jupyter Notebook|\n",
        "|Rstudio|\n",
        "|Anaconda|\n"
      ],
      "metadata": {
        "id": "Jvoc3voLswJl"
      }
    },
    {
      "cell_type": "markdown",
      "source": [
        "###Below are a Few examples of Evaluating Arithmetic expressions ion Python\n"
      ],
      "metadata": {
        "id": "JVR_38WFuSA3"
      }
    },
    {
      "cell_type": "code",
      "source": [
        "#This is a simple arithmetic expression to multiply then add integers\n",
        "(3*4)+5"
      ],
      "metadata": {
        "colab": {
          "base_uri": "https://localhost:8080/"
        },
        "id": "C6jgX1iEwacv",
        "outputId": "6bb2bf1b-e075-48de-f6d4-c99620cd7654"
      },
      "execution_count": 2,
      "outputs": [
        {
          "output_type": "execute_result",
          "data": {
            "text/plain": [
              "17"
            ]
          },
          "metadata": {},
          "execution_count": 2
        }
      ]
    },
    {
      "cell_type": "code",
      "source": [
        "#This will convert 200 minutes into hours by dividing by 60\n",
        "minutes=200\n",
        "hours=minutes/60\n",
        "print(hours)"
      ],
      "metadata": {
        "colab": {
          "base_uri": "https://localhost:8080/"
        },
        "id": "deryFlqKudV9",
        "outputId": "c57b8837-ef2a-4016-f4aa-0c3c5911627b"
      },
      "execution_count": 1,
      "outputs": [
        {
          "output_type": "stream",
          "name": "stdout",
          "text": [
            "3.3333333333333335\n"
          ]
        }
      ]
    },
    {
      "cell_type": "code",
      "source": [],
      "metadata": {
        "id": "GK9MsijZuzNH"
      },
      "execution_count": null,
      "outputs": []
    },
    {
      "cell_type": "markdown",
      "source": [
        "##Author\n",
        "Jayden"
      ],
      "metadata": {
        "id": "farVfGiGwz1v"
      }
    }
  ],
  "metadata": {
    "kernelspec": {
      "display_name": "Python",
      "language": "python",
      "name": "conda-env-python-py"
    },
    "language_info": {
      "name": ""
    },
    "colab": {
      "provenance": []
    }
  },
  "nbformat": 4,
  "nbformat_minor": 0
}